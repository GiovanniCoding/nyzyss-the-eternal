{
 "cells": [
  {
   "cell_type": "code",
   "execution_count": 1,
   "metadata": {},
   "outputs": [],
   "source": [
    "import re\n",
    "import nltk\n",
    "import hashlib\n",
    "import pandas as pd\n",
    "\n",
    "# Model\n",
    "from scipy import spatial\n",
    "from sklearn.feature_extraction.text import TfidfVectorizer"
   ]
  },
  {
   "cell_type": "code",
   "execution_count": 10,
   "metadata": {},
   "outputs": [],
   "source": [
    "def clean_string(row, stem=None):\n",
    "    text = row[9]\n",
    "    # Make lower\n",
    "    text = text.lower()\n",
    "\n",
    "    # Remove line breaks\n",
    "    text = re.sub(r'\\n', '', text)\n",
    "\n",
    "    # Keep only letters\n",
    "    text = re.sub('[^a-z ]+', '', text)\n",
    "\n",
    "    # Remove stop words\n",
    "    text = text.split()\n",
    "    useless_words = nltk.corpus.stopwords.words(\"english\")\n",
    "    useless_words = useless_words + ['hi', 'im']\n",
    "    text_filtered = [word for word in text if not word in useless_words]\n",
    "\n",
    "    return ' '.join(text_filtered)"
   ]
  },
  {
   "cell_type": "code",
   "execution_count": 11,
   "metadata": {},
   "outputs": [],
   "source": [
    "data = pd.read_csv(\n",
    "    '../dataset/switch-games-id.csv',\n",
    "    delimiter=',',\n",
    ")\n",
    "data['clean_review'] = data.apply(clean_string, axis=1)\n",
    "data[['id', 'clean_review']].to_csv('../dataset/switch-games-clean-reviews.csv', index=False, sep=',')"
   ]
  },
  {
   "cell_type": "markdown",
   "metadata": {},
   "source": [
    "# Model"
   ]
  },
  {
   "cell_type": "code",
   "execution_count": 8,
   "metadata": {},
   "outputs": [
    {
     "data": {
      "text/plain": [
       "['a8996117',\n",
       " 'e2f10932',\n",
       " '51ff4f64',\n",
       " '4377dbf1',\n",
       " '751a7bbf',\n",
       " 'dc506d3b',\n",
       " '438bc630',\n",
       " '7796d27e',\n",
       " '4e293730',\n",
       " '31409bf6',\n",
       " '97fc82c2',\n",
       " 'ff64c4ba',\n",
       " 'a1af38c1',\n",
       " '92d53aa6',\n",
       " '6ae91a77',\n",
       " '54ce4908',\n",
       " '889702e7',\n",
       " '95d72d02',\n",
       " '646338d6',\n",
       " '0f0191a3']"
      ]
     },
     "execution_count": 8,
     "metadata": {},
     "output_type": "execute_result"
    }
   ],
   "source": [
    "def create_model(data):\n",
    "    # Load data\n",
    "    data = pd.read_csv(\n",
    "        '../dataset/switch-games-clean-reviews.csv',\n",
    "        delimiter=','\n",
    "    )\n",
    "    # My model will be a simple tf-idf over all reviews\n",
    "    vectorizer = TfidfVectorizer()\n",
    "    X = vectorizer.fit_transform(data['clean_review'])\n",
    "    X.shape\n",
    "\n",
    "    # Tree to do a fast search over distances\n",
    "    tree = spatial.KDTree(X.toarray())\n",
    "    return X, tree\n",
    "\n",
    "\n",
    "def predict(id):\n",
    "    index = data.index[data['id'] == id][0]\n",
    "    game_array = X[index].toarray()[0]\n",
    "    games_closest = tree.query(game_array, k=21)[1][1:]\n",
    "    return [data.iloc[index]['id'] for index in games_closest]\n",
    "\n",
    "X, tree = create_model(data)\n",
    "predict('0f0191a3')"
   ]
  }
 ],
 "metadata": {
  "kernelspec": {
   "display_name": "Python 3.10.5 ('red-project')",
   "language": "python",
   "name": "python3"
  },
  "language_info": {
   "codemirror_mode": {
    "name": "ipython",
    "version": 3
   },
   "file_extension": ".py",
   "mimetype": "text/x-python",
   "name": "python",
   "nbconvert_exporter": "python",
   "pygments_lexer": "ipython3",
   "version": "3.10.5"
  },
  "orig_nbformat": 4,
  "vscode": {
   "interpreter": {
    "hash": "96888412f1ff6c2b0fb7e176dd7406618f2df53d7f88a035d67cb6450a854a44"
   }
  }
 },
 "nbformat": 4,
 "nbformat_minor": 2
}
