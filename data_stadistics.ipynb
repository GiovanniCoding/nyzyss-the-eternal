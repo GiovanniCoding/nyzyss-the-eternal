{
 "cells": [
  {
   "cell_type": "code",
   "execution_count": 16,
   "metadata": {},
   "outputs": [
    {
     "name": "stderr",
     "output_type": "stream",
     "text": [
      "[nltk_data] Downloading package stopwords to\n",
      "[nltk_data]     /Users/egiovanni/nltk_data...\n",
      "[nltk_data]   Package stopwords is already up-to-date!\n"
     ]
    },
    {
     "data": {
      "text/plain": [
       "True"
      ]
     },
     "execution_count": 16,
     "metadata": {},
     "output_type": "execute_result"
    }
   ],
   "source": [
    "import re\n",
    "import nltk\n",
    "import string\n",
    "import hashlib\n",
    "import numpy as np\n",
    "import pandas as pd\n",
    "\n",
    "from scipy import spatial\n",
    "from sklearn.feature_extraction.text import TfidfVectorizer\n",
    "\n",
    "nltk.download('stopwords')"
   ]
  },
  {
   "cell_type": "code",
   "execution_count": 17,
   "metadata": {},
   "outputs": [],
   "source": [
    "def clean_string(row, stem=None):\n",
    "    text = row[2]\n",
    "    # Make lower\n",
    "    text = text.lower()\n",
    "\n",
    "    # Remove line breaks\n",
    "    text = re.sub(r'\\n', '', text)\n",
    "\n",
    "    # Keep only letters\n",
    "    text = re.sub('[^a-z ]+', '', text)\n",
    "\n",
    "    # Remove stop words\n",
    "    text = text.split()\n",
    "    useless_words = nltk.corpus.stopwords.words(\"english\")\n",
    "    useless_words = useless_words + ['hi', 'im']\n",
    "    text_filtered = [word for word in text if not word in useless_words]\n",
    "\n",
    "    return ' '.join(text_filtered)"
   ]
  },
  {
   "cell_type": "code",
   "execution_count": 18,
   "metadata": {},
   "outputs": [
    {
     "data": {
      "text/html": [
       "<div>\n",
       "<style scoped>\n",
       "    .dataframe tbody tr th:only-of-type {\n",
       "        vertical-align: middle;\n",
       "    }\n",
       "\n",
       "    .dataframe tbody tr th {\n",
       "        vertical-align: top;\n",
       "    }\n",
       "\n",
       "    .dataframe thead th {\n",
       "        text-align: right;\n",
       "    }\n",
       "</style>\n",
       "<table border=\"1\" class=\"dataframe\">\n",
       "  <thead>\n",
       "    <tr style=\"text-align: right;\">\n",
       "      <th></th>\n",
       "      <th>title</th>\n",
       "      <th>review_url</th>\n",
       "      <th>review</th>\n",
       "      <th>id</th>\n",
       "      <th>clean_review</th>\n",
       "    </tr>\n",
       "  </thead>\n",
       "  <tbody>\n",
       "    <tr>\n",
       "      <th>0</th>\n",
       "      <td>Thymesia Review</td>\n",
       "      <td>https://www.ign.com/articles/thymesia-review</td>\n",
       "      <td>It’s always a shame when a game manages to get...</td>\n",
       "      <td>cf5ae401</td>\n",
       "      <td>always shame game manages get things right oth...</td>\n",
       "    </tr>\n",
       "    <tr>\n",
       "      <th>1</th>\n",
       "      <td>Cult of the Lamb Review</td>\n",
       "      <td>https://www.ign.com/articles/cult-of-the-lamb-...</td>\n",
       "      <td>When I started Cult of the Lamb, I wasn’t expe...</td>\n",
       "      <td>ca52879c</td>\n",
       "      <td>started cult lamb wasnt expecting shoveling mu...</td>\n",
       "    </tr>\n",
       "    <tr>\n",
       "      <th>2</th>\n",
       "      <td>Digimon Survive Review</td>\n",
       "      <td>https://www.ign.com/articles/digimon-survive-r...</td>\n",
       "      <td>You ever see someone with massive, toned arms ...</td>\n",
       "      <td>359455cc</td>\n",
       "      <td>ever see someone massive toned arms embarrassi...</td>\n",
       "    </tr>\n",
       "    <tr>\n",
       "      <th>3</th>\n",
       "      <td>Two Point Campus Review</td>\n",
       "      <td>https://www.ign.com/articles/two-point-campus-...</td>\n",
       "      <td>Two Point Campus continues in the already impr...</td>\n",
       "      <td>a4ed8c25</td>\n",
       "      <td>two point campus continues already impressive ...</td>\n",
       "    </tr>\n",
       "    <tr>\n",
       "      <th>4</th>\n",
       "      <td>Xenoblade Chronicles 3 Review</td>\n",
       "      <td>https://www.ign.com/articles/xenoblade-chronic...</td>\n",
       "      <td>When it comes to over-the-top roleplaying game...</td>\n",
       "      <td>f5324fe1</td>\n",
       "      <td>comes overthetop roleplaying games hard beat b...</td>\n",
       "    </tr>\n",
       "    <tr>\n",
       "      <th>...</th>\n",
       "      <td>...</td>\n",
       "      <td>...</td>\n",
       "      <td>...</td>\n",
       "      <td>...</td>\n",
       "      <td>...</td>\n",
       "    </tr>\n",
       "    <tr>\n",
       "      <th>265</th>\n",
       "      <td>Ibb &amp; Obb Review</td>\n",
       "      <td>https://www.ign.com/articles/2013/08/07/ibb-an...</td>\n",
       "      <td>It’s strange that something so calming can som...</td>\n",
       "      <td>f1a55058</td>\n",
       "      <td>strange something calming sometimes grow frust...</td>\n",
       "    </tr>\n",
       "    <tr>\n",
       "      <th>266</th>\n",
       "      <td>Limbo Review</td>\n",
       "      <td>https://www.ign.com/articles/2011/08/02/limbo-...</td>\n",
       "      <td>Video games are an art form made up of visuals...</td>\n",
       "      <td>c8ecc519</td>\n",
       "      <td>video games art form made visuals sound myster...</td>\n",
       "    </tr>\n",
       "    <tr>\n",
       "      <th>267</th>\n",
       "      <td>Resident Evil 5: Gold Edition Review</td>\n",
       "      <td>https://www.ign.com/articles/2010/03/17/reside...</td>\n",
       "      <td>Change can be a painful process. Just ask one ...</td>\n",
       "      <td>63c47b16</td>\n",
       "      <td>change painful process ask one unfortunate cit...</td>\n",
       "    </tr>\n",
       "    <tr>\n",
       "      <th>268</th>\n",
       "      <td>World of Goo Review</td>\n",
       "      <td>https://www.ign.com/articles/2008/10/20/world-...</td>\n",
       "      <td>Simple concept, executed to perfection. That's...</td>\n",
       "      <td>3769978f</td>\n",
       "      <td>simple concept executed perfection thats gamin...</td>\n",
       "    </tr>\n",
       "    <tr>\n",
       "      <th>269</th>\n",
       "      <td>Ninja Gaiden Atari Lynx Review</td>\n",
       "      <td>https://www.ign.com/articles/1999/07/07/ninja-...</td>\n",
       "      <td>As the landscape scrolls by, you can walk and ...</td>\n",
       "      <td>781032e5</td>\n",
       "      <td>landscape scrolls walk jump terrain enemies co...</td>\n",
       "    </tr>\n",
       "  </tbody>\n",
       "</table>\n",
       "<p>270 rows × 5 columns</p>\n",
       "</div>"
      ],
      "text/plain": [
       "                                    title  \\\n",
       "0                         Thymesia Review   \n",
       "1                 Cult of the Lamb Review   \n",
       "2                  Digimon Survive Review   \n",
       "3                 Two Point Campus Review   \n",
       "4           Xenoblade Chronicles 3 Review   \n",
       "..                                    ...   \n",
       "265                      Ibb & Obb Review   \n",
       "266                          Limbo Review   \n",
       "267  Resident Evil 5: Gold Edition Review   \n",
       "268                   World of Goo Review   \n",
       "269        Ninja Gaiden Atari Lynx Review   \n",
       "\n",
       "                                            review_url  \\\n",
       "0         https://www.ign.com/articles/thymesia-review   \n",
       "1    https://www.ign.com/articles/cult-of-the-lamb-...   \n",
       "2    https://www.ign.com/articles/digimon-survive-r...   \n",
       "3    https://www.ign.com/articles/two-point-campus-...   \n",
       "4    https://www.ign.com/articles/xenoblade-chronic...   \n",
       "..                                                 ...   \n",
       "265  https://www.ign.com/articles/2013/08/07/ibb-an...   \n",
       "266  https://www.ign.com/articles/2011/08/02/limbo-...   \n",
       "267  https://www.ign.com/articles/2010/03/17/reside...   \n",
       "268  https://www.ign.com/articles/2008/10/20/world-...   \n",
       "269  https://www.ign.com/articles/1999/07/07/ninja-...   \n",
       "\n",
       "                                                review        id  \\\n",
       "0    It’s always a shame when a game manages to get...  cf5ae401   \n",
       "1    When I started Cult of the Lamb, I wasn’t expe...  ca52879c   \n",
       "2    You ever see someone with massive, toned arms ...  359455cc   \n",
       "3    Two Point Campus continues in the already impr...  a4ed8c25   \n",
       "4    When it comes to over-the-top roleplaying game...  f5324fe1   \n",
       "..                                                 ...       ...   \n",
       "265  It’s strange that something so calming can som...  f1a55058   \n",
       "266  Video games are an art form made up of visuals...  c8ecc519   \n",
       "267  Change can be a painful process. Just ask one ...  63c47b16   \n",
       "268  Simple concept, executed to perfection. That's...  3769978f   \n",
       "269  As the landscape scrolls by, you can walk and ...  781032e5   \n",
       "\n",
       "                                          clean_review  \n",
       "0    always shame game manages get things right oth...  \n",
       "1    started cult lamb wasnt expecting shoveling mu...  \n",
       "2    ever see someone massive toned arms embarrassi...  \n",
       "3    two point campus continues already impressive ...  \n",
       "4    comes overthetop roleplaying games hard beat b...  \n",
       "..                                                 ...  \n",
       "265  strange something calming sometimes grow frust...  \n",
       "266  video games art form made visuals sound myster...  \n",
       "267  change painful process ask one unfortunate cit...  \n",
       "268  simple concept executed perfection thats gamin...  \n",
       "269  landscape scrolls walk jump terrain enemies co...  \n",
       "\n",
       "[270 rows x 5 columns]"
      ]
     },
     "execution_count": 18,
     "metadata": {},
     "output_type": "execute_result"
    }
   ],
   "source": [
    "data = pd.read_csv(\n",
    "    'data/switch-games-titles.txt',\n",
    "    delimiter='|'\n",
    "    )\n",
    "data = data.dropna()\n",
    "data['id'] = data.apply(lambda x: hashlib.md5(x[2].encode()).hexdigest()[:8], axis=1)\n",
    "data['clean_review'] = data.apply(clean_string, axis=1)\n",
    "data"
   ]
  },
  {
   "cell_type": "code",
   "execution_count": 20,
   "metadata": {},
   "outputs": [
    {
     "data": {
      "text/html": [
       "<div>\n",
       "<style scoped>\n",
       "    .dataframe tbody tr th:only-of-type {\n",
       "        vertical-align: middle;\n",
       "    }\n",
       "\n",
       "    .dataframe tbody tr th {\n",
       "        vertical-align: top;\n",
       "    }\n",
       "\n",
       "    .dataframe thead th {\n",
       "        text-align: right;\n",
       "    }\n",
       "</style>\n",
       "<table border=\"1\" class=\"dataframe\">\n",
       "  <thead>\n",
       "    <tr style=\"text-align: right;\">\n",
       "      <th></th>\n",
       "      <th>id</th>\n",
       "      <th>title</th>\n",
       "    </tr>\n",
       "  </thead>\n",
       "  <tbody>\n",
       "    <tr>\n",
       "      <th>0</th>\n",
       "      <td>cf5ae401</td>\n",
       "      <td>Thymesia Review</td>\n",
       "    </tr>\n",
       "    <tr>\n",
       "      <th>1</th>\n",
       "      <td>ca52879c</td>\n",
       "      <td>Cult of the Lamb Review</td>\n",
       "    </tr>\n",
       "    <tr>\n",
       "      <th>2</th>\n",
       "      <td>359455cc</td>\n",
       "      <td>Digimon Survive Review</td>\n",
       "    </tr>\n",
       "    <tr>\n",
       "      <th>3</th>\n",
       "      <td>a4ed8c25</td>\n",
       "      <td>Two Point Campus Review</td>\n",
       "    </tr>\n",
       "    <tr>\n",
       "      <th>4</th>\n",
       "      <td>f5324fe1</td>\n",
       "      <td>Xenoblade Chronicles 3 Review</td>\n",
       "    </tr>\n",
       "    <tr>\n",
       "      <th>...</th>\n",
       "      <td>...</td>\n",
       "      <td>...</td>\n",
       "    </tr>\n",
       "    <tr>\n",
       "      <th>265</th>\n",
       "      <td>f1a55058</td>\n",
       "      <td>Ibb &amp; Obb Review</td>\n",
       "    </tr>\n",
       "    <tr>\n",
       "      <th>266</th>\n",
       "      <td>c8ecc519</td>\n",
       "      <td>Limbo Review</td>\n",
       "    </tr>\n",
       "    <tr>\n",
       "      <th>267</th>\n",
       "      <td>63c47b16</td>\n",
       "      <td>Resident Evil 5: Gold Edition Review</td>\n",
       "    </tr>\n",
       "    <tr>\n",
       "      <th>268</th>\n",
       "      <td>3769978f</td>\n",
       "      <td>World of Goo Review</td>\n",
       "    </tr>\n",
       "    <tr>\n",
       "      <th>269</th>\n",
       "      <td>781032e5</td>\n",
       "      <td>Ninja Gaiden Atari Lynx Review</td>\n",
       "    </tr>\n",
       "  </tbody>\n",
       "</table>\n",
       "<p>270 rows × 2 columns</p>\n",
       "</div>"
      ],
      "text/plain": [
       "           id                                 title\n",
       "0    cf5ae401                       Thymesia Review\n",
       "1    ca52879c               Cult of the Lamb Review\n",
       "2    359455cc                Digimon Survive Review\n",
       "3    a4ed8c25               Two Point Campus Review\n",
       "4    f5324fe1         Xenoblade Chronicles 3 Review\n",
       "..        ...                                   ...\n",
       "265  f1a55058                      Ibb & Obb Review\n",
       "266  c8ecc519                          Limbo Review\n",
       "267  63c47b16  Resident Evil 5: Gold Edition Review\n",
       "268  3769978f                   World of Goo Review\n",
       "269  781032e5        Ninja Gaiden Atari Lynx Review\n",
       "\n",
       "[270 rows x 2 columns]"
      ]
     },
     "execution_count": 20,
     "metadata": {},
     "output_type": "execute_result"
    }
   ],
   "source": [
    "data_titles = data.loc[:, ['id', 'title']]\n",
    "data_titles.to_json('meilisearch/data.json', orient='records', force_ascii=False)\n",
    "data_titles"
   ]
  },
  {
   "cell_type": "code",
   "execution_count": 21,
   "metadata": {},
   "outputs": [
    {
     "data": {
      "text/plain": [
       "array(['aaa', 'aaah', 'aang', ..., 'zubatspeaking', 'zx', 'zxthe'],\n",
       "      dtype=object)"
      ]
     },
     "execution_count": 21,
     "metadata": {},
     "output_type": "execute_result"
    }
   ],
   "source": [
    "corpus = data['clean_review'].tolist()\n",
    "vectorizer = TfidfVectorizer()\n",
    "X = vectorizer.fit_transform(corpus)\n",
    "vectorizer.get_feature_names_out()"
   ]
  },
  {
   "cell_type": "code",
   "execution_count": 22,
   "metadata": {},
   "outputs": [
    {
     "data": {
      "text/plain": [
       "(270, 20851)"
      ]
     },
     "execution_count": 22,
     "metadata": {},
     "output_type": "execute_result"
    }
   ],
   "source": [
    "X.toarray().shape"
   ]
  },
  {
   "cell_type": "code",
   "execution_count": 23,
   "metadata": {},
   "outputs": [],
   "source": [
    "tree = spatial.KDTree(X.toarray())"
   ]
  },
  {
   "cell_type": "code",
   "execution_count": 15,
   "metadata": {},
   "outputs": [
    {
     "name": "stdout",
     "output_type": "stream",
     "text": [
      "Super Smash Bros. Ultimate Review\n",
      "[0. 0. 0. ... 0. 0. 0.]\n",
      "[181 169 109  44 143 136 119 189 178 158 161]\n",
      "Super Smash Bros. Ultimate: Joker Challenger Pack DLC Review\n",
      "Super Mario Bros. 35 Review\n",
      "Nickelodeon All-Star Brawl Review\n",
      "Super Smash Bros. Ultimate - Terry Bogard DLC Review\n",
      "Super Smash Bros. Ultimate - Byleth DLC Review\n",
      "Super Smash Bros. Ultimate - Min Min DLC Review\n",
      "Nintendo Switch Review - 2018\n",
      "New Super Mario Bros. U Deluxe Review\n",
      "Super Smash Bros. Ultimate: Hero DLC Review \n",
      "Marvel Ultimate Alliance 3: The Black Order Review\n"
     ]
    }
   ],
   "source": [
    "index = 181\n",
    "game_title = data['title'].iloc[index]\n",
    "game_array = X[index].toarray()[0]\n",
    "games_closest = tree.query(game_array, k=11)[1]\n",
    "print(game_title)\n",
    "print(game_array)\n",
    "print(games_closest)\n",
    "for ind, game in enumerate(games_closest):\n",
    "    if ind == 0: continue\n",
    "    game_closest_title = data['title'].iloc[game]\n",
    "    print(game_closest_title)"
   ]
  }
 ],
 "metadata": {
  "kernelspec": {
   "display_name": "Python 3.10.5 ('red-project')",
   "language": "python",
   "name": "python3"
  },
  "language_info": {
   "codemirror_mode": {
    "name": "ipython",
    "version": 3
   },
   "file_extension": ".py",
   "mimetype": "text/x-python",
   "name": "python",
   "nbconvert_exporter": "python",
   "pygments_lexer": "ipython3",
   "version": "3.10.5"
  },
  "orig_nbformat": 4,
  "vscode": {
   "interpreter": {
    "hash": "96888412f1ff6c2b0fb7e176dd7406618f2df53d7f88a035d67cb6450a854a44"
   }
  }
 },
 "nbformat": 4,
 "nbformat_minor": 2
}
