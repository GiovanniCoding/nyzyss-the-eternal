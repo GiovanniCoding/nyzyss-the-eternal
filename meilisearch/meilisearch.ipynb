{
 "cells": [
  {
   "cell_type": "markdown",
   "metadata": {},
   "source": [
    "## Upload Data to Meilisearch\n",
    "Upload nintendo switch games titles to meilisearch for a easy search."
   ]
  },
  {
   "cell_type": "code",
   "execution_count": 2,
   "metadata": {},
   "outputs": [],
   "source": [
    "import os\n",
    "import json\n",
    "import meilisearch"
   ]
  },
  {
   "cell_type": "code",
   "execution_count": 5,
   "metadata": {},
   "outputs": [],
   "source": [
    "client = meilisearch.Client(\n",
    "    'http://api.egiovanni.com:7700',\n",
    "    api_key=os.environ.get('PROJECTS_PERSONAL_KEY')\n",
    ")"
   ]
  },
  {
   "cell_type": "code",
   "execution_count": 7,
   "metadata": {},
   "outputs": [
    {
     "data": {
      "text/plain": [
       "{'taskUid': 6,\n",
       " 'indexUid': 'switch_games',\n",
       " 'status': 'enqueued',\n",
       " 'type': 'documentAdditionOrUpdate',\n",
       " 'enqueuedAt': '2022-09-16T22:41:48.804246383Z'}"
      ]
     },
     "execution_count": 7,
     "metadata": {},
     "output_type": "execute_result"
    }
   ],
   "source": [
    "json_file = open('../data/switch-games-titles.json')\n",
    "switch_games = json.load(json_file)\n",
    "client.index('switch_games').add_documents(switch_games)"
   ]
  },
  {
   "cell_type": "code",
   "execution_count": 7,
   "metadata": {},
   "outputs": [
    {
     "name": "stdout",
     "output_type": "stream",
     "text": [
      "{'id': 'e01ef77c', 'title': 'Zelda: Breath of the Wild - The Master Trials DLC'}\n",
      "{'id': '1a8f35a2', 'title': 'The Legend of Zelda: Skyward Sword HD'}\n",
      "{'id': '54d6eda8', 'title': 'The Legend of Zelda: Breath of the Wild'}\n",
      "{'id': '248cdf73', 'title': \"The Legend of Zelda: Link's Awakening\"}\n"
     ]
    }
   ],
   "source": [
    "# Search Test\n",
    "response = client.index('switch_games').search('zeld')\n",
    "for element in response['hits']:\n",
    "    print(element)"
   ]
  }
 ],
 "metadata": {
  "kernelspec": {
   "display_name": "Python 3.10.5 ('red-project')",
   "language": "python",
   "name": "python3"
  },
  "language_info": {
   "codemirror_mode": {
    "name": "ipython",
    "version": 3
   },
   "file_extension": ".py",
   "mimetype": "text/x-python",
   "name": "python",
   "nbconvert_exporter": "python",
   "pygments_lexer": "ipython3",
   "version": "3.10.5"
  },
  "orig_nbformat": 4,
  "vscode": {
   "interpreter": {
    "hash": "96888412f1ff6c2b0fb7e176dd7406618f2df53d7f88a035d67cb6450a854a44"
   }
  }
 },
 "nbformat": 4,
 "nbformat_minor": 2
}
