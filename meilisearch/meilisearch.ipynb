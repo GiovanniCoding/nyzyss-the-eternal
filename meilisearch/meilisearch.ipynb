{
 "cells": [
  {
   "cell_type": "code",
   "execution_count": 11,
   "metadata": {},
   "outputs": [],
   "source": [
    "import json\n",
    "import meilisearch"
   ]
  },
  {
   "cell_type": "code",
   "execution_count": 12,
   "metadata": {},
   "outputs": [],
   "source": [
    "client = meilisearch.Client('http://35.193.60.83:7700', api_key='red-project')"
   ]
  },
  {
   "cell_type": "code",
   "execution_count": 13,
   "metadata": {},
   "outputs": [
    {
     "data": {
      "text/plain": [
       "{'taskUid': 3,\n",
       " 'indexUid': 'switch_games',\n",
       " 'status': 'enqueued',\n",
       " 'type': 'documentDeletion',\n",
       " 'enqueuedAt': '2022-09-14T01:16:20.402069831Z'}"
      ]
     },
     "execution_count": 13,
     "metadata": {},
     "output_type": "execute_result"
    }
   ],
   "source": [
    "client.index('switch_games').delete_all_documents()"
   ]
  },
  {
   "cell_type": "code",
   "execution_count": 14,
   "metadata": {},
   "outputs": [
    {
     "data": {
      "text/plain": [
       "{'taskUid': 4,\n",
       " 'indexUid': 'switch_games',\n",
       " 'status': 'enqueued',\n",
       " 'type': 'documentAdditionOrUpdate',\n",
       " 'enqueuedAt': '2022-09-14T01:16:25.077700814Z'}"
      ]
     },
     "execution_count": 14,
     "metadata": {},
     "output_type": "execute_result"
    }
   ],
   "source": [
    "json_file = open('data.json')\n",
    "switch_games = json.load(json_file)\n",
    "client.index('switch_games').add_documents(switch_games)"
   ]
  },
  {
   "cell_type": "code",
   "execution_count": 9,
   "metadata": {},
   "outputs": [
    {
     "data": {
      "text/plain": [
       "{'databaseSize': 610304,\n",
       " 'lastUpdate': '2022-09-14T00:24:29.03722536Z',\n",
       " 'indexes': {'switch_games': {'numberOfDocuments': 270,\n",
       "   'isIndexing': False,\n",
       "   'fieldDistribution': {'id': 270, 'name': 270}}}}"
      ]
     },
     "execution_count": 9,
     "metadata": {},
     "output_type": "execute_result"
    }
   ],
   "source": [
    "client.get_all_stats()"
   ]
  },
  {
   "cell_type": "code",
   "execution_count": 10,
   "metadata": {},
   "outputs": [
    {
     "name": "stdout",
     "output_type": "stream",
     "text": [
      "{'id': '6ebcdf42', 'name': 'Madison'}\n",
      "{'id': '1da90d0e', 'name': 'Matchpoint Tennis Championships'}\n",
      "{'id': '8dba0216', 'name': 'Mario Strikers: Battle League'}\n",
      "{'id': '23777d14', 'name': 'Mario Party Superstars'}\n",
      "{'id': '4dbb9933', 'name': \"Marvel's Guardians of the Galaxy\"}\n",
      "{'id': '196dae37', 'name': 'Maneater: Truth Quest'}\n",
      "{'id': '95c54d70', 'name': 'Mario Golf: Super Rush'}\n",
      "{'id': '90979c9b', 'name': 'Mario Kart Live: Home Circuit'}\n",
      "{'id': '55806ede', 'name': 'Mario & Sonic at the Olympic Games Tokyo 2020'}\n",
      "{'id': '61e6bb56', 'name': 'Marvel Ultimate Alliance 3: The Black Order'}\n",
      "{'id': '42de14cb', 'name': 'Mario + Rabbids: Kingdom Battle - Donkey Kong Adventure'}\n",
      "{'id': 'bf1a9bd8', 'name': 'Mario Tennis Aces'}\n",
      "{'id': '804faa7b', 'name': 'Mario + Rabbids: Kingdom Battle'}\n",
      "{'id': '38a44844', 'name': 'Pac-Man 99'}\n",
      "{'id': 'a6b8a197', 'name': 'Super Mario 3D World + Bowser’s Fury'}\n",
      "{'id': '224d9267', 'name': 'Super Mario Bros. 35'}\n",
      "{'id': 'a23bffd6', 'name': 'Paper Mario: The Origami King'}\n",
      "{'id': '1e49426b', 'name': 'Cooking Mama: Cookstar'}\n",
      "{'id': '0a3e2d04', 'name': 'Mega Man Zero/ZX Legacy Collection'}\n",
      "{'id': '34134824', 'name': 'Mega Man X Legacy Collection 1'}\n"
     ]
    }
   ],
   "source": [
    "response = client.index('switch_games').search('ma')\n",
    "for element in response['hits']:\n",
    "    print(element)"
   ]
  }
 ],
 "metadata": {
  "kernelspec": {
   "display_name": "Python 3.10.5 ('red-project')",
   "language": "python",
   "name": "python3"
  },
  "language_info": {
   "codemirror_mode": {
    "name": "ipython",
    "version": 3
   },
   "file_extension": ".py",
   "mimetype": "text/x-python",
   "name": "python",
   "nbconvert_exporter": "python",
   "pygments_lexer": "ipython3",
   "version": "3.10.5"
  },
  "orig_nbformat": 4,
  "vscode": {
   "interpreter": {
    "hash": "96888412f1ff6c2b0fb7e176dd7406618f2df53d7f88a035d67cb6450a854a44"
   }
  }
 },
 "nbformat": 4,
 "nbformat_minor": 2
}
