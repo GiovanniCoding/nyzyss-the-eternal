{
 "cells": [
  {
   "cell_type": "code",
   "execution_count": 1,
   "metadata": {},
   "outputs": [],
   "source": [
    "import json\n",
    "import meilisearch"
   ]
  },
  {
   "cell_type": "code",
   "execution_count": 2,
   "metadata": {},
   "outputs": [],
   "source": [
    "client = meilisearch.Client('http://34.71.114.220:7700', api_key='red-project')"
   ]
  },
  {
   "cell_type": "code",
   "execution_count": 3,
   "metadata": {},
   "outputs": [
    {
     "data": {
      "text/plain": [
       "{'taskUid': 0,\n",
       " 'indexUid': 'switch_games',\n",
       " 'status': 'enqueued',\n",
       " 'type': 'documentAdditionOrUpdate',\n",
       " 'enqueuedAt': '2022-09-08T05:13:55.588514723Z'}"
      ]
     },
     "execution_count": 3,
     "metadata": {},
     "output_type": "execute_result"
    }
   ],
   "source": [
    "json_file = open('data.json')\n",
    "switch_games = json.load(json_file)\n",
    "client.index('switch_games').add_documents(switch_games)"
   ]
  },
  {
   "cell_type": "code",
   "execution_count": 4,
   "metadata": {},
   "outputs": [
    {
     "data": {
      "text/plain": [
       "{'databaseSize': 356352,\n",
       " 'lastUpdate': '2022-09-08T05:13:55.868242947Z',\n",
       " 'indexes': {'switch_games': {'numberOfDocuments': 270,\n",
       "   'isIndexing': False,\n",
       "   'fieldDistribution': {'id': 270, 'name': 270}}}}"
      ]
     },
     "execution_count": 4,
     "metadata": {},
     "output_type": "execute_result"
    }
   ],
   "source": [
    "client.get_all_stats()"
   ]
  },
  {
   "cell_type": "code",
   "execution_count": 5,
   "metadata": {},
   "outputs": [
    {
     "name": "stdout",
     "output_type": "stream",
     "text": [
      "{'id': '6ebcdf42', 'name': 'Madison Review'}\n",
      "{'id': '1da90d0e', 'name': 'Matchpoint Tennis Championships Review'}\n",
      "{'id': '8dba0216', 'name': 'Mario Strikers: Battle League Review'}\n",
      "{'id': '23777d14', 'name': 'Mario Party Superstars Review'}\n",
      "{'id': '4dbb9933', 'name': \"Marvel's Guardians of the Galaxy Review\"}\n",
      "{'id': '196dae37', 'name': 'Maneater: Truth Quest Review'}\n",
      "{'id': '95c54d70', 'name': 'Mario Golf: Super Rush Review'}\n",
      "{'id': '90979c9b', 'name': 'Mario Kart Live: Home Circuit Review'}\n",
      "{'id': '55806ede', 'name': 'Mario & Sonic at the Olympic Games Tokyo 2020 Review'}\n",
      "{'id': '61e6bb56', 'name': 'Marvel Ultimate Alliance 3: The Black Order Review'}\n",
      "{'id': '42de14cb', 'name': 'Mario + Rabbids: Kingdom Battle - Donkey Kong Adventure Review'}\n",
      "{'id': 'bf1a9bd8', 'name': 'Mario Tennis Aces Review'}\n",
      "{'id': '804faa7b', 'name': 'Mario + Rabbids: Kingdom Battle Review'}\n",
      "{'id': '38a44844', 'name': 'Pac-Man 99 Review'}\n",
      "{'id': 'a6b8a197', 'name': 'Super Mario 3D World + Bowser’s Fury Review'}\n",
      "{'id': '224d9267', 'name': 'Super Mario Bros. 35 Review'}\n",
      "{'id': 'a23bffd6', 'name': 'Paper Mario: The Origami King Review'}\n",
      "{'id': '1e49426b', 'name': 'Cooking Mama: Cookstar Review'}\n",
      "{'id': '0a3e2d04', 'name': 'Mega Man Zero/ZX Legacy Collection Review'}\n",
      "{'id': '34134824', 'name': 'Mega Man X Legacy Collection 1 Review'}\n"
     ]
    }
   ],
   "source": [
    "response = client.index('switch_games').search('ma')\n",
    "for element in response['hits']:\n",
    "    print(element)"
   ]
  }
 ],
 "metadata": {
  "kernelspec": {
   "display_name": "Python 3.10.5 ('red-project')",
   "language": "python",
   "name": "python3"
  },
  "language_info": {
   "codemirror_mode": {
    "name": "ipython",
    "version": 3
   },
   "file_extension": ".py",
   "mimetype": "text/x-python",
   "name": "python",
   "nbconvert_exporter": "python",
   "pygments_lexer": "ipython3",
   "version": "3.10.5"
  },
  "orig_nbformat": 4,
  "vscode": {
   "interpreter": {
    "hash": "96888412f1ff6c2b0fb7e176dd7406618f2df53d7f88a035d67cb6450a854a44"
   }
  }
 },
 "nbformat": 4,
 "nbformat_minor": 2
}
