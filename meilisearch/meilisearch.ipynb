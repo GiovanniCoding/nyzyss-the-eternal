{
 "cells": [
  {
   "cell_type": "markdown",
   "metadata": {},
   "source": [
    "## Upload Data to Meilisearch\n",
    "Upload nintendo switch games titles to meilisearch for a easy search."
   ]
  },
  {
   "cell_type": "code",
   "execution_count": 1,
   "metadata": {},
   "outputs": [],
   "source": [
    "import os\n",
    "import json\n",
    "import meilisearch\n",
    "import pandas as pd"
   ]
  },
  {
   "cell_type": "code",
   "execution_count": 2,
   "metadata": {},
   "outputs": [
    {
     "data": {
      "text/plain": [
       "'e@#D7jkeUH#7jV'"
      ]
     },
     "execution_count": 2,
     "metadata": {},
     "output_type": "execute_result"
    }
   ],
   "source": [
    "os.environ.get('PROJECTS_PERSONAL_KEY')"
   ]
  },
  {
   "cell_type": "code",
   "execution_count": 4,
   "metadata": {},
   "outputs": [
    {
     "name": "stdout",
     "output_type": "stream",
     "text": [
      "Index(['title', 'game_url', 'image_url', 'system', 'publisher', 'developer',\n",
      "       'genre', 'num_players', 'release_date', 'review', 'review_conclusion',\n",
      "       'num_votes', 'rating', 'id'],\n",
      "      dtype='object')\n"
     ]
    },
    {
     "data": {
      "text/html": [
       "<div>\n",
       "<style scoped>\n",
       "    .dataframe tbody tr th:only-of-type {\n",
       "        vertical-align: middle;\n",
       "    }\n",
       "\n",
       "    .dataframe tbody tr th {\n",
       "        vertical-align: top;\n",
       "    }\n",
       "\n",
       "    .dataframe thead th {\n",
       "        text-align: right;\n",
       "    }\n",
       "</style>\n",
       "<table border=\"1\" class=\"dataframe\">\n",
       "  <thead>\n",
       "    <tr style=\"text-align: right;\">\n",
       "      <th></th>\n",
       "      <th>id</th>\n",
       "      <th>title</th>\n",
       "      <th>image_url</th>\n",
       "      <th>release_date</th>\n",
       "      <th>review</th>\n",
       "    </tr>\n",
       "  </thead>\n",
       "  <tbody>\n",
       "    <tr>\n",
       "      <th>0</th>\n",
       "      <td>0f0191a3</td>\n",
       "      <td>The DioField Chronicle</td>\n",
       "      <td>https://images.nintendolife.com/d9a6ef84ec8cf/...</td>\n",
       "      <td>22nd Sep 2022</td>\n",
       "      <td>Published by Square Enix and developed with as...</td>\n",
       "    </tr>\n",
       "    <tr>\n",
       "      <th>1</th>\n",
       "      <td>f2af5f5f</td>\n",
       "      <td>The Legend of Heroes: Trails from Zero</td>\n",
       "      <td>https://images.nintendolife.com/004c2655b08cc/...</td>\n",
       "      <td>27th Sep 2022</td>\n",
       "      <td>We dont blame you if you’re intimidated by Fal...</td>\n",
       "    </tr>\n",
       "    <tr>\n",
       "      <th>2</th>\n",
       "      <td>a8996117</td>\n",
       "      <td>NBA 2K23</td>\n",
       "      <td>https://images.nintendolife.com/60aff0dbdc402/...</td>\n",
       "      <td>9th Sep 2022</td>\n",
       "      <td>Its once again reached that time of year when ...</td>\n",
       "    </tr>\n",
       "    <tr>\n",
       "      <th>3</th>\n",
       "      <td>e2f10932</td>\n",
       "      <td>Temtem</td>\n",
       "      <td>https://images.nintendolife.com/c6c585ce49b59/...</td>\n",
       "      <td>6th Sep 2022</td>\n",
       "      <td>At the beginning of our Temtem adventure  we h...</td>\n",
       "    </tr>\n",
       "    <tr>\n",
       "      <th>4</th>\n",
       "      <td>51ff4f64</td>\n",
       "      <td>Made in Abyss: Binary Star Falling into Darkness</td>\n",
       "      <td>https://images.nintendolife.com/063177f5b67f4/...</td>\n",
       "      <td>2nd Sep 2022</td>\n",
       "      <td>Made in Abyss feels like an anime/manga ripe f...</td>\n",
       "    </tr>\n",
       "    <tr>\n",
       "      <th>...</th>\n",
       "      <td>...</td>\n",
       "      <td>...</td>\n",
       "      <td>...</td>\n",
       "      <td>...</td>\n",
       "      <td>...</td>\n",
       "    </tr>\n",
       "    <tr>\n",
       "      <th>632</th>\n",
       "      <td>0f933f58</td>\n",
       "      <td>Skylanders Imaginators</td>\n",
       "      <td>https://images.nintendolife.com/83212dea254b0/...</td>\n",
       "      <td>3rd Mar 2017</td>\n",
       "      <td>Skylanders Imaginators may be a launch title o...</td>\n",
       "    </tr>\n",
       "    <tr>\n",
       "      <th>633</th>\n",
       "      <td>44b24a40</td>\n",
       "      <td>Just Dance 2017</td>\n",
       "      <td>https://images.nintendolife.com/1eafb4d828558/...</td>\n",
       "      <td>3rd Mar 2017</td>\n",
       "      <td>People all over the world have finally got the...</td>\n",
       "    </tr>\n",
       "    <tr>\n",
       "      <th>634</th>\n",
       "      <td>1e8edaf2</td>\n",
       "      <td>Super Bomberman R</td>\n",
       "      <td>https://images.nintendolife.com/cfd86c7a10b1b/...</td>\n",
       "      <td>3rd Mar 2017</td>\n",
       "      <td>When most people pick up their Switch  theyll ...</td>\n",
       "    </tr>\n",
       "    <tr>\n",
       "      <th>635</th>\n",
       "      <td>92d53aa6</td>\n",
       "      <td>1-2-Switch</td>\n",
       "      <td>https://images.nintendolife.com/dc982b88045e5/...</td>\n",
       "      <td>3rd Mar 2017</td>\n",
       "      <td>Would the Wii have sold over 100 million units...</td>\n",
       "    </tr>\n",
       "    <tr>\n",
       "      <th>636</th>\n",
       "      <td>97fc82c2</td>\n",
       "      <td>The Legend of Zelda: Breath of the Wild</td>\n",
       "      <td>https://images.nintendolife.com/e409aebf4d1f2/...</td>\n",
       "      <td>3rd Mar 2017</td>\n",
       "      <td>The Legend of Zelda has always been a franchis...</td>\n",
       "    </tr>\n",
       "  </tbody>\n",
       "</table>\n",
       "<p>637 rows × 5 columns</p>\n",
       "</div>"
      ],
      "text/plain": [
       "           id                                             title  \\\n",
       "0    0f0191a3                            The DioField Chronicle   \n",
       "1    f2af5f5f            The Legend of Heroes: Trails from Zero   \n",
       "2    a8996117                                          NBA 2K23   \n",
       "3    e2f10932                                            Temtem   \n",
       "4    51ff4f64  Made in Abyss: Binary Star Falling into Darkness   \n",
       "..        ...                                               ...   \n",
       "632  0f933f58                            Skylanders Imaginators   \n",
       "633  44b24a40                                   Just Dance 2017   \n",
       "634  1e8edaf2                                 Super Bomberman R   \n",
       "635  92d53aa6                                        1-2-Switch   \n",
       "636  97fc82c2           The Legend of Zelda: Breath of the Wild   \n",
       "\n",
       "                                             image_url   release_date  \\\n",
       "0    https://images.nintendolife.com/d9a6ef84ec8cf/...  22nd Sep 2022   \n",
       "1    https://images.nintendolife.com/004c2655b08cc/...  27th Sep 2022   \n",
       "2    https://images.nintendolife.com/60aff0dbdc402/...   9th Sep 2022   \n",
       "3    https://images.nintendolife.com/c6c585ce49b59/...   6th Sep 2022   \n",
       "4    https://images.nintendolife.com/063177f5b67f4/...   2nd Sep 2022   \n",
       "..                                                 ...            ...   \n",
       "632  https://images.nintendolife.com/83212dea254b0/...   3rd Mar 2017   \n",
       "633  https://images.nintendolife.com/1eafb4d828558/...   3rd Mar 2017   \n",
       "634  https://images.nintendolife.com/cfd86c7a10b1b/...   3rd Mar 2017   \n",
       "635  https://images.nintendolife.com/dc982b88045e5/...   3rd Mar 2017   \n",
       "636  https://images.nintendolife.com/e409aebf4d1f2/...   3rd Mar 2017   \n",
       "\n",
       "                                                review  \n",
       "0    Published by Square Enix and developed with as...  \n",
       "1    We dont blame you if you’re intimidated by Fal...  \n",
       "2    Its once again reached that time of year when ...  \n",
       "3    At the beginning of our Temtem adventure  we h...  \n",
       "4    Made in Abyss feels like an anime/manga ripe f...  \n",
       "..                                                 ...  \n",
       "632  Skylanders Imaginators may be a launch title o...  \n",
       "633  People all over the world have finally got the...  \n",
       "634  When most people pick up their Switch  theyll ...  \n",
       "635  Would the Wii have sold over 100 million units...  \n",
       "636  The Legend of Zelda has always been a franchis...  \n",
       "\n",
       "[637 rows x 5 columns]"
      ]
     },
     "execution_count": 4,
     "metadata": {},
     "output_type": "execute_result"
    }
   ],
   "source": [
    "df = pd.read_csv('../dataset/switch-games-id.csv', sep=',')\n",
    "print(df.columns)\n",
    "meilisearch_data = df[['id', 'title', 'image_url', 'release_date', 'review']]\n",
    "meilisearch_data.to_json('../dataset/switch-games-titles.json', orient='records', force_ascii=False)\n",
    "meilisearch_data"
   ]
  },
  {
   "cell_type": "code",
   "execution_count": 14,
   "metadata": {},
   "outputs": [],
   "source": [
    "client = meilisearch.Client(\n",
    "    'http://34.136.74.202:7700', os.environ.get('PROJECTS_PERSONAL_KEY')\n",
    ")"
   ]
  },
  {
   "cell_type": "code",
   "execution_count": 17,
   "metadata": {},
   "outputs": [
    {
     "data": {
      "text/plain": [
       "{'taskUid': 3,\n",
       " 'indexUid': 'switch_games',\n",
       " 'status': 'enqueued',\n",
       " 'type': 'documentAdditionOrUpdate',\n",
       " 'enqueuedAt': '2022-09-24T04:53:35.181957175Z'}"
      ]
     },
     "execution_count": 17,
     "metadata": {},
     "output_type": "execute_result"
    }
   ],
   "source": [
    "json_file = open('../dataset/switch-games-titles.json')\n",
    "switch_games = json.load(json_file)\n",
    "client.index('switch_games').add_documents(switch_games)"
   ]
  },
  {
   "cell_type": "code",
   "execution_count": 18,
   "metadata": {},
   "outputs": [
    {
     "name": "stdout",
     "output_type": "stream",
     "text": [
      "{'id': '753871e1', 'title': 'The Legend of Zelda: Skyward Sword HD'}\n",
      "{'id': '4574948a', 'title': 'The Legend of Zelda: Links Awakening'}\n",
      "{'id': '97fc82c2', 'title': 'The Legend of Zelda: Breath of the Wild'}\n"
     ]
    }
   ],
   "source": [
    "# Search Test\n",
    "response = client.index('switch_games').search('zeld')\n",
    "for element in response['hits']:\n",
    "    print(element)"
   ]
  }
 ],
 "metadata": {
  "kernelspec": {
   "display_name": "Python 3.10.5 ('red-project')",
   "language": "python",
   "name": "python3"
  },
  "language_info": {
   "codemirror_mode": {
    "name": "ipython",
    "version": 3
   },
   "file_extension": ".py",
   "mimetype": "text/x-python",
   "name": "python",
   "nbconvert_exporter": "python",
   "pygments_lexer": "ipython3",
   "version": "3.10.5"
  },
  "orig_nbformat": 4,
  "vscode": {
   "interpreter": {
    "hash": "96888412f1ff6c2b0fb7e176dd7406618f2df53d7f88a035d67cb6450a854a44"
   }
  }
 },
 "nbformat": 4,
 "nbformat_minor": 2
}
