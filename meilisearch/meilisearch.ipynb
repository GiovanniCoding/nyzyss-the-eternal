{
 "cells": [
  {
   "cell_type": "code",
   "execution_count": 1,
   "metadata": {},
   "outputs": [],
   "source": [
    "import json\n",
    "import meilisearch"
   ]
  },
  {
   "cell_type": "code",
   "execution_count": 24,
   "metadata": {},
   "outputs": [],
   "source": [
    "client = meilisearch.Client('http://api.egiovanni.com:7700', api_key='red-project')"
   ]
  },
  {
   "cell_type": "code",
   "execution_count": 25,
   "metadata": {},
   "outputs": [
    {
     "data": {
      "text/plain": [
       "{'hits': [{'id': '6ebcdf42', 'title': 'Madison'},\n",
       "  {'id': '1da90d0e', 'title': 'Matchpoint Tennis Championships'},\n",
       "  {'id': '8dba0216', 'title': 'Mario Strikers: Battle League'},\n",
       "  {'id': '23777d14', 'title': 'Mario Party Superstars'},\n",
       "  {'id': '4dbb9933', 'title': \"Marvel's Guardians of the Galaxy\"},\n",
       "  {'id': 'd116d2c4', 'title': 'Maneater: Truth Quest'},\n",
       "  {'id': '20b65367', 'title': 'Mario Golf: Super Rush'},\n",
       "  {'id': 'b59d69b3', 'title': 'Mario Kart Live: Home Circuit'},\n",
       "  {'id': '55806ede', 'title': 'Mario & Sonic at the Olympic Games Tokyo 2020'},\n",
       "  {'id': '41dedd1c', 'title': 'Marvel Ultimate Alliance 3: The Black Order'},\n",
       "  {'id': '42de14cb',\n",
       "   'title': 'Mario + Rabbids: Kingdom Battle - Donkey Kong Adventure'},\n",
       "  {'id': '44bbfbfa', 'title': 'Mario Tennis Aces'},\n",
       "  {'id': '804faa7b', 'title': 'Mario + Rabbids: Kingdom Battle'},\n",
       "  {'id': '8e7a9933', 'title': 'Mario Kart 8 Deluxe'},\n",
       "  {'id': 'be23a1b9', 'title': 'Pac-Man 99'},\n",
       "  {'id': '4eec045a', 'title': 'Super Mario 3D World + Bowser’s Fury'},\n",
       "  {'id': '224d9267', 'title': 'Super Mario Bros. 35'},\n",
       "  {'id': 'a23bffd6', 'title': 'Paper Mario: The Origami King'},\n",
       "  {'id': '1e49426b', 'title': 'Cooking Mama: Cookstar'},\n",
       "  {'id': '9cb10dea', 'title': 'Mega Man Zero/ZX Legacy Collection'}],\n",
       " 'estimatedTotalHits': 39,\n",
       " 'query': 'ma',\n",
       " 'limit': 20,\n",
       " 'offset': 0,\n",
       " 'processingTimeMs': 0}"
      ]
     },
     "execution_count": 25,
     "metadata": {},
     "output_type": "execute_result"
    }
   ],
   "source": [
    "client.index('switch_games').search('ma')"
   ]
  },
  {
   "cell_type": "code",
   "execution_count": 8,
   "metadata": {},
   "outputs": [
    {
     "data": {
      "text/plain": [
       "{'results': [{'id': 'cf5ae401', 'title': 'Thymesia'},\n",
       "  {'id': 'ca52879c', 'title': 'Cult of the Lamb'}],\n",
       " 'offset': 0,\n",
       " 'limit': 2,\n",
       " 'total': 324}"
      ]
     },
     "execution_count": 8,
     "metadata": {},
     "output_type": "execute_result"
    }
   ],
   "source": [
    "client.index('switch_games').get_documents({'limit':2})"
   ]
  },
  {
   "cell_type": "code",
   "execution_count": 3,
   "metadata": {},
   "outputs": [
    {
     "data": {
      "text/plain": [
       "{'taskUid': 5,\n",
       " 'indexUid': 'switch_games',\n",
       " 'status': 'enqueued',\n",
       " 'type': 'documentDeletion',\n",
       " 'enqueuedAt': '2022-09-16T22:38:31.218533967Z'}"
      ]
     },
     "execution_count": 3,
     "metadata": {},
     "output_type": "execute_result"
    }
   ],
   "source": [
    "client.index('switch_games').delete_all_documents()"
   ]
  },
  {
   "cell_type": "code",
   "execution_count": 7,
   "metadata": {},
   "outputs": [
    {
     "data": {
      "text/plain": [
       "{'taskUid': 6,\n",
       " 'indexUid': 'switch_games',\n",
       " 'status': 'enqueued',\n",
       " 'type': 'documentAdditionOrUpdate',\n",
       " 'enqueuedAt': '2022-09-16T22:41:48.804246383Z'}"
      ]
     },
     "execution_count": 7,
     "metadata": {},
     "output_type": "execute_result"
    }
   ],
   "source": [
    "json_file = open('../data/switch-games-titles.json')\n",
    "switch_games = json.load(json_file)\n",
    "client.index('switch_games').add_documents(switch_games)"
   ]
  },
  {
   "cell_type": "code",
   "execution_count": 9,
   "metadata": {},
   "outputs": [
    {
     "data": {
      "text/plain": [
       "{'databaseSize': 610304,\n",
       " 'lastUpdate': '2022-09-14T00:24:29.03722536Z',\n",
       " 'indexes': {'switch_games': {'numberOfDocuments': 270,\n",
       "   'isIndexing': False,\n",
       "   'fieldDistribution': {'id': 270, 'name': 270}}}}"
      ]
     },
     "execution_count": 9,
     "metadata": {},
     "output_type": "execute_result"
    }
   ],
   "source": [
    "client.get_all_stats()"
   ]
  },
  {
   "cell_type": "code",
   "execution_count": 10,
   "metadata": {},
   "outputs": [
    {
     "name": "stdout",
     "output_type": "stream",
     "text": [
      "{'id': 'e01ef77c', 'title': 'Zelda: Breath of the Wild - The Master Trials DLC'}\n",
      "{'id': '1a8f35a2', 'title': 'The Legend of Zelda: Skyward Sword HD'}\n",
      "{'id': '54d6eda8', 'title': 'The Legend of Zelda: Breath of the Wild'}\n",
      "{'id': '248cdf73', 'title': \"The Legend of Zelda: Link's Awakening\"}\n"
     ]
    }
   ],
   "source": [
    "response = client.index('switch_games').search('zelda')\n",
    "for element in response['hits']:\n",
    "    print(element)"
   ]
  },
  {
   "cell_type": "code",
   "execution_count": null,
   "metadata": {},
   "outputs": [],
   "source": []
  }
 ],
 "metadata": {
  "kernelspec": {
   "display_name": "Python 3.10.5 ('red-project')",
   "language": "python",
   "name": "python3"
  },
  "language_info": {
   "codemirror_mode": {
    "name": "ipython",
    "version": 3
   },
   "file_extension": ".py",
   "mimetype": "text/x-python",
   "name": "python",
   "nbconvert_exporter": "python",
   "pygments_lexer": "ipython3",
   "version": "3.10.5"
  },
  "orig_nbformat": 4,
  "vscode": {
   "interpreter": {
    "hash": "96888412f1ff6c2b0fb7e176dd7406618f2df53d7f88a035d67cb6450a854a44"
   }
  }
 },
 "nbformat": 4,
 "nbformat_minor": 2
}
