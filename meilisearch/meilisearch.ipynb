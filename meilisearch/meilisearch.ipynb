{
 "cells": [
  {
   "cell_type": "markdown",
   "metadata": {},
   "source": [
    "## Upload Data to Meilisearch\n",
    "Upload nintendo switch games titles to meilisearch for a easy search."
   ]
  },
  {
   "cell_type": "code",
   "execution_count": 1,
   "metadata": {},
   "outputs": [],
   "source": [
    "import os\n",
    "import json\n",
    "import meilisearch\n",
    "import pandas as pd"
   ]
  },
  {
   "cell_type": "code",
   "execution_count": 2,
   "metadata": {},
   "outputs": [
    {
     "data": {
      "text/plain": [
       "'e@#D7jkeUH#7jV'"
      ]
     },
     "execution_count": 2,
     "metadata": {},
     "output_type": "execute_result"
    }
   ],
   "source": [
    "os.environ.get('PROJECTS_PERSONAL_KEY')"
   ]
  },
  {
   "cell_type": "code",
   "execution_count": 3,
   "metadata": {},
   "outputs": [
    {
     "name": "stdout",
     "output_type": "stream",
     "text": [
      "Index(['id', 'title', 'game_url', 'image_url', 'system', 'publisher',\n",
      "       'developer', 'genre', 'num_players', 'release_date', 'review',\n",
      "       'review_conclusion', 'num_votes', 'rating'],\n",
      "      dtype='object')\n"
     ]
    },
    {
     "data": {
      "text/html": [
       "<div>\n",
       "<style scoped>\n",
       "    .dataframe tbody tr th:only-of-type {\n",
       "        vertical-align: middle;\n",
       "    }\n",
       "\n",
       "    .dataframe tbody tr th {\n",
       "        vertical-align: top;\n",
       "    }\n",
       "\n",
       "    .dataframe thead th {\n",
       "        text-align: right;\n",
       "    }\n",
       "</style>\n",
       "<table border=\"1\" class=\"dataframe\">\n",
       "  <thead>\n",
       "    <tr style=\"text-align: right;\">\n",
       "      <th></th>\n",
       "      <th>id</th>\n",
       "      <th>title</th>\n",
       "    </tr>\n",
       "  </thead>\n",
       "  <tbody>\n",
       "    <tr>\n",
       "      <th>0</th>\n",
       "      <td>0f0191a3</td>\n",
       "      <td>The DioField Chronicle</td>\n",
       "    </tr>\n",
       "    <tr>\n",
       "      <th>1</th>\n",
       "      <td>f2af5f5f</td>\n",
       "      <td>The Legend of Heroes: Trails from Zero</td>\n",
       "    </tr>\n",
       "    <tr>\n",
       "      <th>2</th>\n",
       "      <td>a8996117</td>\n",
       "      <td>NBA 2K23</td>\n",
       "    </tr>\n",
       "    <tr>\n",
       "      <th>3</th>\n",
       "      <td>e2f10932</td>\n",
       "      <td>Temtem</td>\n",
       "    </tr>\n",
       "    <tr>\n",
       "      <th>4</th>\n",
       "      <td>51ff4f64</td>\n",
       "      <td>Made in Abyss: Binary Star Falling into Darkness</td>\n",
       "    </tr>\n",
       "    <tr>\n",
       "      <th>...</th>\n",
       "      <td>...</td>\n",
       "      <td>...</td>\n",
       "    </tr>\n",
       "    <tr>\n",
       "      <th>632</th>\n",
       "      <td>0f933f58</td>\n",
       "      <td>Skylanders Imaginators</td>\n",
       "    </tr>\n",
       "    <tr>\n",
       "      <th>633</th>\n",
       "      <td>44b24a40</td>\n",
       "      <td>Just Dance 2017</td>\n",
       "    </tr>\n",
       "    <tr>\n",
       "      <th>634</th>\n",
       "      <td>1e8edaf2</td>\n",
       "      <td>Super Bomberman R</td>\n",
       "    </tr>\n",
       "    <tr>\n",
       "      <th>635</th>\n",
       "      <td>92d53aa6</td>\n",
       "      <td>1-2-Switch</td>\n",
       "    </tr>\n",
       "    <tr>\n",
       "      <th>636</th>\n",
       "      <td>97fc82c2</td>\n",
       "      <td>The Legend of Zelda: Breath of the Wild</td>\n",
       "    </tr>\n",
       "  </tbody>\n",
       "</table>\n",
       "<p>637 rows × 2 columns</p>\n",
       "</div>"
      ],
      "text/plain": [
       "           id                                             title\n",
       "0    0f0191a3                            The DioField Chronicle\n",
       "1    f2af5f5f            The Legend of Heroes: Trails from Zero\n",
       "2    a8996117                                          NBA 2K23\n",
       "3    e2f10932                                            Temtem\n",
       "4    51ff4f64  Made in Abyss: Binary Star Falling into Darkness\n",
       "..        ...                                               ...\n",
       "632  0f933f58                            Skylanders Imaginators\n",
       "633  44b24a40                                   Just Dance 2017\n",
       "634  1e8edaf2                                 Super Bomberman R\n",
       "635  92d53aa6                                        1-2-Switch\n",
       "636  97fc82c2           The Legend of Zelda: Breath of the Wild\n",
       "\n",
       "[637 rows x 2 columns]"
      ]
     },
     "execution_count": 3,
     "metadata": {},
     "output_type": "execute_result"
    }
   ],
   "source": [
    "df = pd.read_csv('../dataset/switch-games.csv', sep=',')\n",
    "print(df.columns)\n",
    "meilisearch_data = df[['id', 'title']]\n",
    "meilisearch_data.to_json('../dataset/switch-games-titles.json', orient='records', force_ascii=False)\n",
    "meilisearch_data"
   ]
  },
  {
   "cell_type": "code",
   "execution_count": 14,
   "metadata": {},
   "outputs": [],
   "source": [
    "client = meilisearch.Client(\n",
    "    'http://34.136.74.202:7700', os.environ.get('PROJECTS_PERSONAL_KEY')\n",
    ")"
   ]
  },
  {
   "cell_type": "code",
   "execution_count": 17,
   "metadata": {},
   "outputs": [
    {
     "data": {
      "text/plain": [
       "{'taskUid': 3,\n",
       " 'indexUid': 'switch_games',\n",
       " 'status': 'enqueued',\n",
       " 'type': 'documentAdditionOrUpdate',\n",
       " 'enqueuedAt': '2022-09-24T04:53:35.181957175Z'}"
      ]
     },
     "execution_count": 17,
     "metadata": {},
     "output_type": "execute_result"
    }
   ],
   "source": [
    "json_file = open('../dataset/switch-games-titles.json')\n",
    "switch_games = json.load(json_file)\n",
    "client.index('switch_games').add_documents(switch_games)"
   ]
  },
  {
   "cell_type": "code",
   "execution_count": 18,
   "metadata": {},
   "outputs": [
    {
     "name": "stdout",
     "output_type": "stream",
     "text": [
      "{'id': '753871e1', 'title': 'The Legend of Zelda: Skyward Sword HD'}\n",
      "{'id': '4574948a', 'title': 'The Legend of Zelda: Links Awakening'}\n",
      "{'id': '97fc82c2', 'title': 'The Legend of Zelda: Breath of the Wild'}\n"
     ]
    }
   ],
   "source": [
    "# Search Test\n",
    "response = client.index('switch_games').search('zeld')\n",
    "for element in response['hits']:\n",
    "    print(element)"
   ]
  }
 ],
 "metadata": {
  "kernelspec": {
   "display_name": "Python 3.10.5 ('red-project')",
   "language": "python",
   "name": "python3"
  },
  "language_info": {
   "codemirror_mode": {
    "name": "ipython",
    "version": 3
   },
   "file_extension": ".py",
   "mimetype": "text/x-python",
   "name": "python",
   "nbconvert_exporter": "python",
   "pygments_lexer": "ipython3",
   "version": "3.10.5"
  },
  "orig_nbformat": 4,
  "vscode": {
   "interpreter": {
    "hash": "96888412f1ff6c2b0fb7e176dd7406618f2df53d7f88a035d67cb6450a854a44"
   }
  }
 },
 "nbformat": 4,
 "nbformat_minor": 2
}
